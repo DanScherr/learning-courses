{
 "cells": [
  {
   "cell_type": "code",
   "execution_count": 37,
   "metadata": {},
   "outputs": [
    {
     "name": "stdout",
     "output_type": "stream",
     "text": [
      "1\n"
     ]
    }
   ],
   "source": [
    "import pandas as pd\r\n",
    "\r\n",
    "# creating dataframe object and reading the csv file\r\n",
    "df = pd.read_csv(r'50_states.csv')\r\n",
    "\r\n",
    "# creating dataframe obj busca and attributting a dataframe of the result of a filter\r\n",
    "busca = df.copy()\r\n",
    "\r\n",
    "row_index = int(df[df.state == \"Alaska\"].index.values)\r\n",
    "print(row_index)"
   ]
  },
  {
   "cell_type": "markdown",
   "metadata": {},
   "source": [
    "## Accessing specific result by accessing atribute of class DataFrame"
   ]
  },
  {
   "cell_type": "code",
   "execution_count": 38,
   "metadata": {},
   "outputs": [
    {
     "name": "stdout",
     "output_type": "stream",
     "text": [
      "Valor buscado: Alaska\n"
     ]
    }
   ],
   "source": [
    "print(f'Valor buscado: {busca.state[row_index]}')\r\n"
   ]
  },
  {
   "cell_type": "markdown",
   "metadata": {},
   "source": [
    "## Accessing specific result by accessing through direct index"
   ]
  },
  {
   "cell_type": "code",
   "execution_count": 39,
   "metadata": {},
   "outputs": [
    {
     "name": "stdout",
     "output_type": "stream",
     "text": [
      "Valor buscado: Alaska\n"
     ]
    }
   ],
   "source": [
    "print(f'Valor buscado: {busca[\"state\"][row_index]}')\r\n"
   ]
  },
  {
   "cell_type": "markdown",
   "metadata": {},
   "source": [
    "## Accessing specific result by accessing with iloc[column_index, row_index]"
   ]
  },
  {
   "cell_type": "code",
   "execution_count": 40,
   "metadata": {},
   "outputs": [
    {
     "name": "stdout",
     "output_type": "stream",
     "text": [
      "Valor buscado: Alaska\n",
      "Valor buscado: Alaska\n"
     ]
    }
   ],
   "source": [
    "# Single [] retrives the specif result: single value, serie or dataframe\r\n",
    "# [row_index, column_index]\r\n",
    "print(f'Valor buscado: {busca.iloc[row_index, 0]}')\r\n",
    "\r\n",
    "# By adding a second [[]], retrives a dataframe [[row_index], column_index] with indexation\r\n",
    "# [row_index, column_index]\r\n",
    "print(f'Valor buscado: {busca.iloc[[row_index], 0][row_index]}')\r\n"
   ]
  },
  {
   "cell_type": "code",
   "execution_count": 41,
   "metadata": {},
   "outputs": [
    {
     "name": "stdout",
     "output_type": "stream",
     "text": [
      "Valor buscado: Alaska\n"
     ]
    }
   ],
   "source": [
    "# accessing specific result by accessing with loc[row_index, column_name]\r\n",
    "print(f'Valor buscado: {busca.loc[row_index, \"state\"]}')\r\n",
    "# busca"
   ]
  },
  {
   "cell_type": "code",
   "execution_count": null,
   "metadata": {},
   "outputs": [],
   "source": []
  }
 ],
 "metadata": {
  "kernelspec": {
   "display_name": "Python 3.10.6 64-bit",
   "name": "python3106jvsc74a57bd0788ec6c2a104bde1602e3e175c8c143dd0c6ac30f60b2e76c7ee5d7cb6490243"
  },
  "language_info": {
   "name": "python",
   "version": ""
  },
  "orig_nbformat": 2
 },
 "nbformat": 4,
 "nbformat_minor": 2
}