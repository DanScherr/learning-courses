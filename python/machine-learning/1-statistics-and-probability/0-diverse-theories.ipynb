{
 "cells": [
  {
   "attachments": {},
   "cell_type": "markdown",
   "metadata": {},
   "source": [
    "- # Parametros de uma Amostra:\n",
    "    - **def:** \n",
    "        - ```Os parâmetros são medidas descritivas de toda uma população que podem ser usadas como entradas para uma função de distribuição de probabilidade (FDP) para gerar curvas de distribuição. Os parâmetros são normalmente representados por letras gregas para distingui-los de estatísticas amostrais. Por exemplo, a média populacional é representada pela letra grega mu (μ) e o desvio padrão da população pela letra grega sigma (σ). Os parâmetros são constantes fixas, isto é, eles não variam como as variáveis. Contudo, seus valores são normalmente desconhecidos, porque é inviável medir uma população inteira.```\n",
    "        - ```Os parâmetros são medidas descritivas de toda uma população. Contudo, seus valores são normalmente desconhecidos, porque é inviável medir uma população inteira. Por causa disso, é possível extrair uma amostra aleatória da população para obter estimativas de parâmetros. Um dos objetivos das análises estatísticas é a obtenção das estimativas dos parâmetros da população, juntamente com a quantidade de erro associada a essas estimativas. Essas estimativas também são conhecidas como estatísticas de amostra.```\n",
    "    - Existem ***diversos tipos de estimativas*** de parâmetros:\n",
    "        - **As estimativas pontuais**: são o valor único e mais provável de um parâmetro. Por exemplo, a estimativa pontual da média da população (o parâmetro) é a média da amostra (a estimativa do parâmetro).\n",
    "        - **Intervalos de confiança**: são uma faixa de valores que provavelmente contém o parâmetro da população.\n",
    "    - **Exemplo:**\n",
    "    Suponha que você trabalha para um fabricante de velas de ignição que está estudando um problema na folga de sua vela de ignição. Seria muito caro para medir cada vela de ignição fabricada. Em vez disso, você faz uma amostragem aleatória de 100 velas de ignição e mede a folga em milímetros. A média da amostra é 9,2. Esta é a estimativa pontual para a média da população (μ). Você também pode criar um intervalo de confiança de 95% para μ que é (8,8, 9,6). Isso significa que você pode ter 95% de certeza de que o verdadeiro valor da folga média para todas as velas de ignição é entre 8,8 e 9,6."
   ]
  },
  {
   "cell_type": "markdown",
   "metadata": {},
   "source": []
  }
 ],
 "metadata": {
  "kernelspec": {
   "display_name": "ambvir",
   "language": "python",
   "name": "python3"
  },
  "language_info": {
   "name": "python",
   "version": "3.10.6 (tags/v3.10.6:9c7b4bd, Aug  1 2022, 21:53:49) [MSC v.1932 64 bit (AMD64)]"
  },
  "orig_nbformat": 4,
  "vscode": {
   "interpreter": {
    "hash": "a9911ef20d4cc55ebf5aee029b069784fa901af0ca45681bbdcfcea527b507b2"
   }
  }
 },
 "nbformat": 4,
 "nbformat_minor": 2
}
