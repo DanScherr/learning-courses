{
 "cells": [
  {
   "attachments": {},
   "cell_type": "markdown",
   "metadata": {},
   "source": [
    "- # Parametros de uma Amostra:\n",
    "    - **def:** \n",
    "        - ```Os parâmetros são medidas descritivas de toda uma população que podem ser usadas como entradas para uma função de distribuição de probabilidade (FDP) para gerar curvas de distribuição. Cada distribuição é inteiramente definida por diversos parâmetros específicos, normalmente entre um e três. A tabela a seguir fornece exemplos dos parâmetros necessários para três distribuições. Os valores de parâmetro determinam o local e a forma da curva da distribuição do gráfico, e cada combinação exclusiva de valores de parâmetro produzem uma curva de distribuição exclusiva.```\n",
    "        \n",
    "        ![](./../images/tbl-parametros-da-amostra.png)\n",
    "\n",
    "        - ``` Os parâmetros são normalmente representados por letras gregas para distingui-los de estatísticas amostrais. Por exemplo, a média populacional é representada pela letra grega mu (μ) e o desvio padrão da população pela letra grega sigma (σ). Os parâmetros são constantes fixas, isto é, eles não variam como as variáveis. Contudo, seus valores são normalmente desconhecidos, porque é inviável medir uma população inteira.```\n",
    "\n",
    "        - ```Os parâmetros são medidas descritivas de toda uma população. Contudo, seus valores são normalmente desconhecidos, porque é inviável medir uma população inteira. Por causa disso, é possível extrair uma amostra aleatória da população para obter estimativas de parâmetros. Um dos objetivos das análises estatísticas é a obtenção das estimativas dos parâmetros da população, juntamente com a quantidade de erro associada a essas estimativas. Essas estimativas também são conhecidas como estatísticas de amostra.```\n",
    "\n",
    "        ![](./../images/tbl-parametros-de-normaliza%C3%A7%C3%A3o.png)\n",
    "        \n",
    "\n",
    "        \n",
    "\n",
    "    - Existem ***diversos tipos de estimativas*** de parâmetros:\n",
    "        - **As estimativas pontuais**: são o valor único e mais provável de um parâmetro. Por exemplo, a estimativa pontual da média da população (o parâmetro) é a média da amostra (a estimativa do parâmetro).\n",
    "        - **Intervalos de confiança**: são uma faixa de valores que provavelmente contém o parâmetro da população.\n",
    "    - **Exemplo:**\n",
    "    Suponha que você trabalha para um fabricante de velas de ignição que está estudando um problema na folga de sua vela de ignição. Seria muito caro para medir cada vela de ignição fabricada. Em vez disso, você faz uma amostragem aleatória de 100 velas de ignição e mede a folga em milímetros. A média da amostra é 9,2. Esta é a estimativa pontual para a média da população (μ). Você também pode criar um intervalo de confiança de 95% para μ que é (8,8, 9,6). Isso significa que você pode ter 95% de certeza de que o verdadeiro valor da folga média para todas as velas de ignição é entre 8,8 e 9,6.\n"
   ]
  },
  {
   "attachments": {},
   "cell_type": "markdown",
   "metadata": {},
   "source": [
    "- # Normalizar/Padronizar variaveis\n",
    "\n",
    "Parte da **transformação de dados.**\n",
    "\n",
    "- Normalização são proporções sem unidades de medida (adimensionais ou invariantes de escala) que nos permitem comparar elementos de diferentes variáveis ​​e diferentes unidades de medida. Também é uma pratica para evitar que o algoritmo fique enviesado para as variáveis com maior ordem de grandeza.\n",
    "\n",
    "- Em estatística e econometria, tabelas de distribuição de probabilidade padronizadas são usadas para encontrar a probabilidade que uma observação assume dada a função de distribuição que a variável segue.\n",
    "\n",
    "- Tanto normalizar quanto padronizar tem o mesmo objetivo: transformar todas as variáveis na mesma ordem de grandeza. E a diferença básica é que padronizar as variáveis irá resultar em uma média igual a 0 e um desvio padrão igual a 1. Já normalizar tem como objetivo colocar as variáveis dentro do intervalo de 0 e 1, caso tenha resultado negativo -1 e 1.\n",
    "\n"
   ]
  },
  {
   "attachments": {},
   "cell_type": "markdown",
   "metadata": {},
   "source": [
    "- # Curva Normal (Gaussiana)\n",
    "\n",
    "- A equação da curva normal de Gauss, que é uma curva matemática teórica, baseia-se em dois parâmetros — a média e o desvio-padrão — que são os elementos que definem **uma determinada população**, **em relação a uma característica qualquer**, estudada e medida em integrantes dessa população."
   ]
  }
 ],
 "metadata": {
  "kernelspec": {
   "display_name": "ambvir",
   "language": "python",
   "name": "python3"
  },
  "language_info": {
   "name": "python",
   "version": "3.10.6 (tags/v3.10.6:9c7b4bd, Aug  1 2022, 21:53:49) [MSC v.1932 64 bit (AMD64)]"
  },
  "orig_nbformat": 4,
  "vscode": {
   "interpreter": {
    "hash": "a9911ef20d4cc55ebf5aee029b069784fa901af0ca45681bbdcfcea527b507b2"
   }
  }
 },
 "nbformat": 4,
 "nbformat_minor": 2
}
