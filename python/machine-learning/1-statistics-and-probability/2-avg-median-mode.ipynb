{
 "cells": [
  {
   "attachments": {},
   "cell_type": "markdown",
   "metadata": {},
   "source": [
    "# Mean, Median and Mode && Introducing to NumPy"
   ]
  },
  {
   "attachments": {},
   "cell_type": "markdown",
   "metadata": {},
   "source": [
    "## 1. Creating a fake income data:"
   ]
  },
  {
   "cell_type": "code",
   "execution_count": 3,
   "metadata": {},
   "outputs": [],
   "source": [
    "import numpy as np\n",
    "\n",
    "incomes = np.random.normal(27000, 15000, 10000) # creates a random distribution"
   ]
  },
  {
   "attachments": {},
   "cell_type": "markdown",
   "metadata": {},
   "source": [
    "## 2. Mean:"
   ]
  },
  {
   "cell_type": "code",
   "execution_count": 4,
   "metadata": {},
   "outputs": [
    {
     "data": {
      "text/plain": [
       "26814.043422022845"
      ]
     },
     "execution_count": 4,
     "metadata": {},
     "output_type": "execute_result"
    }
   ],
   "source": [
    "np.mean(incomes) # the results makes sense because we created a data set tha has distribution around 27000"
   ]
  },
  {
   "cell_type": "code",
   "execution_count": 5,
   "metadata": {},
   "outputs": [],
   "source": [
    "%matplotlib inline\n",
    "import matplotlib.pyplot as plt"
   ]
  },
  {
   "cell_type": "code",
   "execution_count": 6,
   "metadata": {},
   "outputs": [
    {
     "data": {
      "image/png": "[encoded data removed]",
      "text/plain": [
       "<Figure size 640x480 with 1 Axes>"
      ]
     },
     "metadata": {},
     "output_type": "display_data"
    }
   ],
   "source": [
    "plt.hist(incomes, 50) # segmenting the income data into 50 buckets, and plotting it as a histogram\n",
    "plt.show()"
   ]
  },
  {
   "attachments": {},
   "cell_type": "markdown",
   "metadata": {},
   "source": [
    "## 3. Median "
   ]
  },
  {
   "cell_type": "code",
   "execution_count": 8,
   "metadata": {},
   "outputs": [
    {
     "data": {
      "text/plain": [
       "26912.54455576802"
      ]
     },
     "execution_count": 8,
     "metadata": {},
     "output_type": "execute_result"
    }
   ],
   "source": [
    "np.median(incomes) # the results makes sense because of the created data set around 27000 with a low standard deviation"
   ]
  },
  {
   "attachments": {},
   "cell_type": "markdown",
   "metadata": {},
   "source": [
    "### 3.1. Now, lets create a really big outlier, to see how the statistics work:"
   ]
  },
  {
   "cell_type": "code",
   "execution_count": 9,
   "metadata": {},
   "outputs": [],
   "source": [
    "incomes = np.append(incomes, [1000000000]) # appending Jeff Bezos into the mix as an outlier"
   ]
  },
  {
   "cell_type": "code",
   "execution_count": 10,
   "metadata": {},
   "outputs": [
    {
     "data": {
      "text/plain": [
       "26913.999732791963"
      ]
     },
     "execution_count": 10,
     "metadata": {},
     "output_type": "execute_result"
    }
   ],
   "source": [
    "np.median(incomes) # new median that wont change much because the new append represents just one ocurrency"
   ]
  },
  {
   "cell_type": "code",
   "execution_count": 11,
   "metadata": {},
   "outputs": [
    {
     "data": {
      "text/plain": [
       "126801.36328569427"
      ]
     },
     "execution_count": 11,
     "metadata": {},
     "output_type": "execute_result"
    }
   ],
   "source": [
    "np.mean(incomes) # mean changes considerally because of the piece of volume of dollars one pearson gets"
   ]
  },
  {
   "attachments": {},
   "cell_type": "markdown",
   "metadata": {},
   "source": [
    "## 4. Mode"
   ]
  },
  {
   "cell_type": "code",
   "execution_count": 13,
   "metadata": {},
   "outputs": [
    {
     "data": {
      "text/plain": [
       "array([59, 79, 60, 77, 55, 21, 79, 35, 41, 58, 69, 79, 63, 59, 23, 70, 69,\n",
       "       29, 20, 73, 33, 34, 64, 73, 23, 31, 51, 67, 36, 77, 32, 62, 86, 77,\n",
       "       31, 39, 47, 20, 32, 83, 69, 27, 38, 76, 30, 78, 53, 56, 87, 76, 21,\n",
       "       86, 73, 32, 39, 49, 45, 44, 58, 39, 48, 62, 45, 42, 76, 79, 75, 88,\n",
       "       81, 38, 26, 74, 20, 55, 55, 36, 22, 70, 26, 18, 65, 40, 47, 28, 72,\n",
       "       56, 55, 72, 89, 76, 78, 61, 63, 47, 42, 37, 62, 53, 48, 22, 76, 74,\n",
       "       27, 28, 37, 76, 49, 44, 48, 39, 81, 77, 35, 20, 85, 46, 40, 39, 64,\n",
       "       58, 52, 80, 27, 81, 81, 84, 73, 59, 63, 81, 29, 29, 55, 53, 75, 68,\n",
       "       26, 48, 68, 76, 71, 63, 45, 62, 42, 57, 59, 27, 78, 62, 80, 81, 64,\n",
       "       72, 78, 81, 41, 55, 31, 79, 84, 45, 66, 46, 25, 33, 27, 76, 79, 59,\n",
       "       76, 58, 74, 47, 40, 71, 45, 38, 69, 43, 75, 60, 19, 35, 37, 69, 61,\n",
       "       57, 77, 89, 61, 47, 51, 84, 31, 42, 42, 48, 30, 65, 38, 19, 40, 73,\n",
       "       43, 46, 46, 26, 24, 48, 28, 43, 36, 19, 38, 38, 21, 46, 82, 87, 80,\n",
       "       33, 85, 31, 45, 22, 56, 57, 69, 56, 70, 66, 71, 53, 87, 38, 69, 58,\n",
       "       31, 79, 57, 82, 43, 26, 68, 51, 22, 65, 36, 71, 47, 57, 53, 38, 74,\n",
       "       53, 74, 48, 74, 80, 42, 67, 57, 36, 82, 67, 71, 42, 27, 57, 81, 74,\n",
       "       69, 32, 28, 51, 22, 59, 47, 64, 63, 49, 22, 58, 55, 34, 47, 87, 47,\n",
       "       82, 86, 25, 25, 21, 51, 36, 30, 71, 57, 24, 55, 50, 79, 40, 45, 49,\n",
       "       29, 64, 24, 83, 59, 66, 22, 71, 40, 86, 84, 41, 81, 29, 61, 37, 19,\n",
       "       61, 53, 33, 24, 28, 75, 79, 40, 75, 39, 70, 58, 43, 34, 61, 24, 78,\n",
       "       25, 85, 67, 84, 60, 24, 55, 83, 84, 83, 68, 35, 54, 88, 49, 34, 38,\n",
       "       59, 75, 89, 24, 40, 33, 31, 71, 49, 20, 74, 62, 72, 40, 82, 45, 84,\n",
       "       51, 55, 18, 31, 66, 45, 38, 81, 54, 40, 59, 75, 56, 38, 66, 76, 59,\n",
       "       47, 53, 44, 25, 49, 55, 71, 22, 79, 58, 30, 25, 69, 23, 45, 38, 73,\n",
       "       69, 69, 77, 31, 72, 46, 76, 84, 57, 32, 18, 80, 70, 44, 84, 77, 86,\n",
       "       50, 48, 81, 77, 56, 82, 63, 38, 54, 40, 33, 52, 35, 28, 48, 68, 80,\n",
       "       47, 18, 31, 49, 66, 55, 20, 18, 46, 30, 57, 37, 30, 62, 31, 87, 65,\n",
       "       88, 76, 88, 63, 36, 74, 57, 42, 53, 57, 58, 81, 87, 58, 73, 42, 47,\n",
       "       87, 30, 37, 81, 49, 24, 48, 45, 21, 27, 70, 23, 36, 52, 34, 72, 41,\n",
       "       89, 58, 71, 68, 49, 35, 67])"
      ]
     },
     "execution_count": 13,
     "metadata": {},
     "output_type": "execute_result"
    }
   ],
   "source": [
    "ages = np.random.randint(18, high=90, size=500) # creating fake ages numpy array for 500 people\n",
    "ages"
   ]
  },
  {
   "cell_type": "code",
   "execution_count": 15,
   "metadata": {},
   "outputs": [],
   "source": [
    "from scipy import stats"
   ]
  },
  {
   "cell_type": "code",
   "execution_count": 16,
   "metadata": {},
   "outputs": [
    {
     "name": "stderr",
     "output_type": "stream",
     "text": [
      "C:\\Users\\017924631\\AppData\\Local\\Temp\\ipykernel_11248\\455133767.py:1: FutureWarning: Unlike other reduction functions (e.g. `skew`, `kurtosis`), the default behavior of `mode` typically preserves the axis it acts along. In SciPy 1.11.0, this behavior will change: the default value of `keepdims` will become False, the `axis` over which the statistic is taken will be eliminated, and the value None will no longer be accepted. Set `keepdims` to True or False to avoid this warning.\n",
      "  stats.mode(ages)\n"
     ]
    },
    {
     "data": {
      "text/plain": [
       "ModeResult(mode=array([38]), count=array([13]))"
      ]
     },
     "execution_count": 16,
     "metadata": {},
     "output_type": "execute_result"
    }
   ],
   "source": [
    "stats.mode(ages)"
   ]
  }
 ],
 "metadata": {
  "kernelspec": {
   "display_name": "ambvir",
   "language": "python",
   "name": "python3"
  },
  "language_info": {
   "codemirror_mode": {
    "name": "ipython",
    "version": 3
   },
   "file_extension": ".py",
   "mimetype": "text/x-python",
   "name": "python",
   "nbconvert_exporter": "python",
   "pygments_lexer": "ipython3",
   "version": "3.10.6"
  },
  "orig_nbformat": 4,
  "vscode": {
   "interpreter": {
    "hash": "a9911ef20d4cc55ebf5aee029b069784fa901af0ca45681bbdcfcea527b507b2"
   }
  }
 },
 "nbformat": 4,
 "nbformat_minor": 2
}
