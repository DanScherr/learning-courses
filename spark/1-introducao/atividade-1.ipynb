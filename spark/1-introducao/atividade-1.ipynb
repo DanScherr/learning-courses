{
 "cells": [
  {
   "attachments": {},
   "cell_type": "markdown",
   "metadata": {},
   "source": [
    "- # **Atividade:**\n",
    "\n",
    "1. Crie uma consulta que mostre nesta ordem, Nome, Estados e Status do cliente.\n",
    "2. Crie uma consulta que mostre apenas os clientes do Status \"platinum\" e \"gold\".\n",
    "3. Demonstre quanto cada Status de Clientes representa em vendas?\n",
    "\n",
    "- Resolver com DataFrames.\n",
    "- Utilizar joins se necessário.\n"
   ]
  },
  {
   "attachments": {},
   "cell_type": "markdown",
   "metadata": {},
   "source": [
    "![](./images/der-atividade.png)"
   ]
  },
  {
   "cell_type": "code",
   "execution_count": 24,
   "metadata": {},
   "outputs": [],
   "source": [
    "from pyspark.sql import SparkSession\n",
    "spark = SparkSession.builder.getOrCreate()\n",
    "\n",
    "from pyspark.sql.types import *"
   ]
  },
  {
   "attachments": {},
   "cell_type": "markdown",
   "metadata": {},
   "source": [
    "- ## Setting data path to work with Data\n",
    "    - ### In case **you haven't installed** dotenv library:"
   ]
  },
  {
   "cell_type": "code",
   "execution_count": 5,
   "metadata": {},
   "outputs": [],
   "source": [
    "!pip3 install python-dotenv"
   ]
  },
  {
   "attachments": {},
   "cell_type": "markdown",
   "metadata": {},
   "source": [
    "- ### **After installing** dotenv library:"
   ]
  },
  {
   "cell_type": "code",
   "execution_count": 25,
   "metadata": {},
   "outputs": [],
   "source": [
    "from dotenv import dotenv_values\n",
    "\n",
    "\n",
    "env_vars = dotenv_values('C:\\\\Users\\\\017924631\\Desktop\\\\working-tree\\\\learning-courses\\\\spark\\\\ambvir\\\\.env')\n",
    "\n",
    "def return_tablePath(data_arc: str):\n",
    "    # could tranform it into a list and access by index:  - list(env_vars.values())[0]\n",
    "    data_root_path = env_vars['DATA_ROOT_PATH'] + '\\\\'\n",
    "    data_path = data_root_path + data_arc\n",
    "\n",
    "    return data_path"
   ]
  },
  {
   "attachments": {},
   "cell_type": "markdown",
   "metadata": {},
   "source": [
    "- ## Importing Data"
   ]
  },
  {
   "cell_type": "code",
   "execution_count": 26,
   "metadata": {},
   "outputs": [
    {
     "name": "stdout",
     "output_type": "stream",
     "text": [
      "+---------+--------------------+------+------+--------+\n",
      "|ClienteID|             Cliente|Estado|Genero|  Status|\n",
      "+---------+--------------------+------+------+--------+\n",
      "|        1|Adelina Buenaventura|    RJ|     M|  Silver|\n",
      "|        2|        Adelino Gago|    RJ|     M|  Silver|\n",
      "|        3|     Adolfo Patrício|    PE|     M|  Silver|\n",
      "|        4|    Adriana Guedelha|    RO|     F|Platinum|\n",
      "|        5|       Adélio Lisboa|    SE|     M|  Silver|\n",
      "+---------+--------------------+------+------+--------+\n",
      "only showing top 5 rows\n",
      "\n"
     ]
    }
   ],
   "source": [
    "parq_clients = spark.read.format(\"parquet\").load(return_tablePath('Clientes.parquet'))\n",
    "\n",
    "parq_clients.show(5)"
   ]
  },
  {
   "attachments": {},
   "cell_type": "markdown",
   "metadata": {},
   "source": [
    "- ## Working with Data"
   ]
  },
  {
   "attachments": {},
   "cell_type": "markdown",
   "metadata": {},
   "source": [
    "- ### Resolving question 1:\n",
    "    - Crie uma consulta que mostre nesta ordem, Nome, Estados e Status do cliente:"
   ]
  },
  {
   "cell_type": "code",
   "execution_count": 29,
   "metadata": {},
   "outputs": [
    {
     "name": "stdout",
     "output_type": "stream",
     "text": [
      "+--------------------+------+--------+\n",
      "|             Cliente|Estado|  Status|\n",
      "+--------------------+------+--------+\n",
      "|Adelina Buenaventura|    RJ|  Silver|\n",
      "|        Adelino Gago|    RJ|  Silver|\n",
      "|     Adolfo Patrício|    PE|  Silver|\n",
      "|    Adriana Guedelha|    RO|Platinum|\n",
      "|       Adélio Lisboa|    SE|  Silver|\n",
      "+--------------------+------+--------+\n",
      "only showing top 5 rows\n",
      "\n"
     ]
    }
   ],
   "source": [
    "parq_clients.select(\"Cliente\", \"Estado\", \"Status\").show(5)"
   ]
  },
  {
   "attachments": {},
   "cell_type": "markdown",
   "metadata": {},
   "source": [
    "- ### Resolving question 2:\n",
    "    - Crie uma consulta que mostre apenas os clientes do Status \"platinum\" e \"gold\"."
   ]
  },
  {
   "cell_type": "code",
   "execution_count": 42,
   "metadata": {},
   "outputs": [
    {
     "name": "stdout",
     "output_type": "stream",
     "text": [
      "+-------------------+--------+\n",
      "|            Cliente|  Status|\n",
      "+-------------------+--------+\n",
      "|   Adriana Guedelha|Platinum|\n",
      "|   Alberto Monsanto|    Gold|\n",
      "|      Anna Carvajal|    Gold|\n",
      "|      Bento Quintão|    Gold|\n",
      "|      Carminda Dias|    Gold|\n",
      "|      Cláudio Jorge|    Gold|\n",
      "|    Dionísio Saltão|    Gold|\n",
      "|   Firmino Meireles|    Gold|\n",
      "|      Flor Vilanova|Platinum|\n",
      "|Honorina Villaverde|    Gold|\n",
      "|    Ibijara Botelho|Platinum|\n",
      "|  Iracema Rodríguez|    Gold|\n",
      "|         Joana Ataí|Platinum|\n",
      "+-------------------+--------+\n",
      "\n"
     ]
    }
   ],
   "source": [
    "from pyspark.sql import functions as Func\n",
    "\n",
    "parq_clients.select(\"Cliente\", \"Status\").where((Func.col(\"Status\") == \"Platinum\") | (Func.col(\"Status\") == \"Gold\")).show()"
   ]
  },
  {
   "attachments": {},
   "cell_type": "markdown",
   "metadata": {},
   "source": [
    "- ### Resolving question 3:\n",
    "    - Demonstre quanto cada Status de Clientes representa em vendas?"
   ]
  },
  {
   "cell_type": "code",
   "execution_count": 43,
   "metadata": {},
   "outputs": [
    {
     "name": "stdout",
     "output_type": "stream",
     "text": [
      "+--------+----------+---------+--------+--------+\n",
      "|VendasID|VendedorID|ClienteID|    Data|   Total|\n",
      "+--------+----------+---------+--------+--------+\n",
      "|       1|         1|       91|1/1/2019|  8053.6|\n",
      "|       2|         6|      185|1/1/2020|   150.4|\n",
      "|       3|         7|       31|2/1/2020|  6087.0|\n",
      "|       4|         5|       31|2/1/2019| 13828.6|\n",
      "|       5|         5|       31|3/1/2018|26096.66|\n",
      "+--------+----------+---------+--------+--------+\n",
      "only showing top 5 rows\n",
      "\n"
     ]
    }
   ],
   "source": [
    "parq_vendas = spark.read.format(\"parquet\").load(return_tablePath('Vendas.parquet'))\n",
    "parq_vendas.show(5)"
   ]
  },
  {
   "cell_type": "code",
   "execution_count": 51,
   "metadata": {},
   "outputs": [
    {
     "name": "stdout",
     "output_type": "stream",
     "text": [
      "+---------+-----------------+------+------+------+--------+----------+---------+--------+--------+\n",
      "|ClienteID|          Cliente|Estado|Genero|Status|VendasID|VendedorID|ClienteID|    Data|   Total|\n",
      "+---------+-----------------+------+------+------+--------+----------+---------+--------+--------+\n",
      "|       91|   Cosme Zambujal|    BA|     M|Silver|       1|         1|       91|1/1/2019|  8053.6|\n",
      "|      185|Gertrudes Hidalgo|    PA|     F|Silver|       2|         6|      185|1/1/2020|   150.4|\n",
      "|       31| Antão Corte-Real|    ES|     M|Silver|       3|         7|       31|2/1/2020|  6087.0|\n",
      "|       31| Antão Corte-Real|    ES|     M|Silver|       4|         5|       31|2/1/2019| 13828.6|\n",
      "|       31| Antão Corte-Real|    ES|     M|Silver|       5|         5|       31|3/1/2018|26096.66|\n",
      "+---------+-----------------+------+------+------+--------+----------+---------+--------+--------+\n",
      "only showing top 5 rows\n",
      "\n"
     ]
    }
   ],
   "source": [
    "parq_vendas_clientes = parq_clients.join(parq_vendas, parq_clients.ClienteID == parq_vendas.ClienteID, 'inner')\n",
    "parq_vendas_clientes.show(5)"
   ]
  },
  {
   "cell_type": "code",
   "execution_count": 70,
   "metadata": {},
   "outputs": [
    {
     "name": "stdout",
     "output_type": "stream",
     "text": [
      "+-----------------+--------------------+\n",
      "|          Cliente|round(sum(Total), 2)|\n",
      "+-----------------+--------------------+\n",
      "| Antão Corte-Real|           640268.07|\n",
      "|   Brígida Gusmão|           366502.71|\n",
      "|    Cidália Miera|           271000.02|\n",
      "|Gertrudes Hidalgo|             96443.3|\n",
      "|   Ilduara Chávez|            80674.51|\n",
      "+-----------------+--------------------+\n",
      "only showing top 5 rows\n",
      "\n"
     ]
    }
   ],
   "source": [
    "parq_vendas_clientes_orderBy = parq_vendas_clientes.select('Cliente', 'Total').groupBy('Cliente').agg(Func.sum('Total')).orderBy(Func.col('sum(Total)').desc())\n",
    "\n",
    "parq_vendas_clientes_orderBy.select('Cliente', Func.round('sum(Total)', 2)).show(5)"
   ]
  }
 ],
 "metadata": {
  "kernelspec": {
   "display_name": "ambvir",
   "language": "python",
   "name": "python3"
  },
  "language_info": {
   "codemirror_mode": {
    "name": "ipython",
    "version": 3
   },
   "file_extension": ".py",
   "mimetype": "text/x-python",
   "name": "python",
   "nbconvert_exporter": "python",
   "pygments_lexer": "ipython3",
   "version": "3.10.6"
  },
  "orig_nbformat": 4,
  "vscode": {
   "interpreter": {
    "hash": "c62b3a10d36a544d5dbb5d4b64e410e17ef9d524fde728094aada0edf7ab90f7"
   }
  }
 },
 "nbformat": 4,
 "nbformat_minor": 2
}
